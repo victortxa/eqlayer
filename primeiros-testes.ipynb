{
 "cells": [
  {
   "cell_type": "code",
   "execution_count": 1,
   "metadata": {
    "collapsed": true
   },
   "outputs": [],
   "source": [
    "import numpy as np\n",
    "from fatiando.gravmag import prism, sphere\n",
    "from fatiando.gravmag.eqlayer import EQLGravity\n",
    "from fatiando.inversion.regularization import Smoothness2D, LCurve\n",
    "from fatiando import gridder, utils, mesher\n",
    "from fatiando.vis import mpl"
   ]
  },
  {
   "cell_type": "code",
   "execution_count": null,
   "metadata": {
    "collapsed": true
   },
   "outputs": [],
   "source": [
    "# posicao medicao"
   ]
  },
  {
   "cell_type": "code",
   "execution_count": 22,
   "metadata": {
    "collapsed": false
   },
   "outputs": [
    {
     "data": {
      "text/plain": [
       "array([ 0.,  1.,  2.,  3.,  4.,  5.,  6.,  7.,  8.,  9.])"
      ]
     },
     "execution_count": 22,
     "metadata": {},
     "output_type": "execute_result"
    }
   ],
   "source": [
    "dx = 1.0*np.arange(10)\n",
    "dx"
   ]
  },
  {
   "cell_type": "code",
   "execution_count": 23,
   "metadata": {
    "collapsed": false
   },
   "outputs": [
    {
     "data": {
      "text/plain": [
       "array([  5.,   6.,   7.,   8.,   9.,  10.,  11.,  12.,  13.,  14.])"
      ]
     },
     "execution_count": 23,
     "metadata": {},
     "output_type": "execute_result"
    }
   ],
   "source": [
    "dz = 1.0*np.arange(5,15)\n",
    "dz"
   ]
  },
  {
   "cell_type": "code",
   "execution_count": null,
   "metadata": {
    "collapsed": true
   },
   "outputs": [],
   "source": [
    "# local dos pontos de massa "
   ]
  },
  {
   "cell_type": "code",
   "execution_count": 29,
   "metadata": {
    "collapsed": true
   },
   "outputs": [],
   "source": [
    "dpz = -10.0*np.ones(10)"
   ]
  },
  {
   "cell_type": "code",
   "execution_count": 25,
   "metadata": {
    "collapsed": true
   },
   "outputs": [],
   "source": [
    "dpx = 1.0*np.arange(10)"
   ]
  },
  {
   "cell_type": "code",
   "execution_count": 26,
   "metadata": {
    "collapsed": true
   },
   "outputs": [],
   "source": [
    "p = 1.0*np.arange(10)"
   ]
  },
  {
   "cell_type": "code",
   "execution_count": 30,
   "metadata": {
    "collapsed": false
   },
   "outputs": [],
   "source": [
    "dado = np.zeros(dz.size)\n",
    "for i in range(dx.size):\n",
    "    for j in range(dpz.size):\n",
    "        dado[i] = dado[i] + p[j]/np.sqrt((dpz[j]-dz[i])**2+(dpx[j]-dx[i])**2)"
   ]
  },
  {
   "cell_type": "code",
   "execution_count": 31,
   "metadata": {
    "collapsed": false
   },
   "outputs": [
    {
     "data": {
      "text/plain": [
       "array([ 2.74804941,  2.65096422,  2.54774734,  2.44177947,  2.33574522,\n",
       "        2.23165328,  2.13091622,  2.03445565,  1.94280994,  1.85623143])"
      ]
     },
     "execution_count": 31,
     "metadata": {},
     "output_type": "execute_result"
    }
   ],
   "source": [
    "dado"
   ]
  },
  {
   "cell_type": "code",
   "execution_count": 34,
   "metadata": {
    "collapsed": false
   },
   "outputs": [],
   "source": [
    "# matriz sensibilidade, G\n",
    "G = np.zeros([dado.size,p.size])\n",
    "for i in range(dado.size):\n",
    "    for j in range(p.size):\n",
    "        G[i,j] = 1./np.sqrt((dpz[j]-dz[i])**2+(dpx[j]-dx[i])**2)"
   ]
  },
  {
   "cell_type": "code",
   "execution_count": 40,
   "metadata": {
    "collapsed": false
   },
   "outputs": [
    {
     "name": "stdout",
     "output_type": "stream",
     "text": [
      "[ 2.74804941  2.65096422  2.54774734  2.44177947  2.33574522  2.23165328\n",
      "  2.13091622  2.03445565  1.94280994  1.85623143]\n",
      "(u'Diferen\\xe7a', array([  0.00000000e+00,   0.00000000e+00,   4.44089210e-16,\n",
      "         4.44089210e-16,   0.00000000e+00,   0.00000000e+00,\n",
      "         0.00000000e+00,   0.00000000e+00,   2.22044605e-16,\n",
      "         0.00000000e+00]))\n"
     ]
    }
   ],
   "source": [
    "# Conferindo G*p = dado ... obvio\n",
    "print(np.dot(G,p))\n",
    "\n",
    "print(u\"Diferenca \",np.dot(G,p)-dado)"
   ]
  },
  {
   "cell_type": "code",
   "execution_count": 42,
   "metadata": {
    "collapsed": false
   },
   "outputs": [
    {
     "data": {
      "text/plain": [
       "0.0"
      ]
     },
     "execution_count": 42,
     "metadata": {},
     "output_type": "execute_result"
    }
   ],
   "source": [
    "dx.min()"
   ]
  },
  {
   "cell_type": "code",
   "execution_count": 49,
   "metadata": {
    "collapsed": false
   },
   "outputs": [],
   "source": [
    "# matriz sensibilidae Geq para numero arbitrario de massas equivalentes\n",
    "eqx = np.arange(dx.min(),dx.max(),0.5)\n",
    "eqz = -50.0*np.arange(eqx.size)\n",
    "Geq = np.zeros([dado.size,eqx.size])\n",
    "for i in range(dado.size):\n",
    "    for j in range(eqx.size):\n",
    "        Geq[i,j] = 1./np.sqrt((eqz[j]-dz[i])**2+(eqx[j]-dx[i])**2)"
   ]
  },
  {
   "cell_type": "markdown",
   "metadata": {},
   "source": [
    "# Agora precisa calcular as massas equivalentes"
   ]
  },
  {
   "cell_type": "code",
   "execution_count": 56,
   "metadata": {
    "collapsed": false
   },
   "outputs": [
    {
     "data": {
      "text/plain": [
       "18"
      ]
     },
     "execution_count": 56,
     "metadata": {},
     "output_type": "execute_result"
    }
   ],
   "source": [
    "Geq.shape[1]"
   ]
  },
  {
   "cell_type": "code",
   "execution_count": 60,
   "metadata": {
    "collapsed": false
   },
   "outputs": [
    {
     "data": {
      "text/plain": [
       "array([[ 1.,  0.,  0.,  0.,  0.,  0.,  0.,  0.,  0.,  0.],\n",
       "       [ 0.,  1.,  0.,  0.,  0.,  0.,  0.,  0.,  0.,  0.],\n",
       "       [ 0.,  0.,  1.,  0.,  0.,  0.,  0.,  0.,  0.,  0.],\n",
       "       [ 0.,  0.,  0.,  1.,  0.,  0.,  0.,  0.,  0.,  0.],\n",
       "       [ 0.,  0.,  0.,  0.,  1.,  0.,  0.,  0.,  0.,  0.],\n",
       "       [ 0.,  0.,  0.,  0.,  0.,  1.,  0.,  0.,  0.,  0.],\n",
       "       [ 0.,  0.,  0.,  0.,  0.,  0.,  1.,  0.,  0.,  0.],\n",
       "       [ 0.,  0.,  0.,  0.,  0.,  0.,  0.,  1.,  0.,  0.],\n",
       "       [ 0.,  0.,  0.,  0.,  0.,  0.,  0.,  0.,  1.,  0.],\n",
       "       [ 0.,  0.,  0.,  0.,  0.,  0.,  0.,  0.,  0.,  1.]])"
      ]
     },
     "execution_count": 60,
     "metadata": {},
     "output_type": "execute_result"
    }
   ],
   "source": [
    "np.eye(Geq.shape[0])"
   ]
  },
  {
   "cell_type": "code",
   "execution_count": null,
   "metadata": {
    "collapsed": true
   },
   "outputs": [],
   "source": [
    "+ mu*np.eye(Geq.shape[0])"
   ]
  },
  {
   "cell_type": "code",
   "execution_count": 66,
   "metadata": {
    "collapsed": false
   },
   "outputs": [],
   "source": [
    "t=np.dot(Geq, Geq.transpose()) #+ mu*np.eye(Geq.shape[0])"
   ]
  },
  {
   "cell_type": "code",
   "execution_count": 77,
   "metadata": {
    "collapsed": false
   },
   "outputs": [],
   "source": [
    "mu = 0.0001\n",
    "meq = np.dot(np.dot( Geq.transpose(), np.linalg.inv(np.dot(Geq, Geq.transpose()) + mu*np.eye(Geq.shape[0])) ), dado)"
   ]
  },
  {
   "cell_type": "code",
   "execution_count": 78,
   "metadata": {
    "collapsed": false
   },
   "outputs": [
    {
     "data": {
      "text/plain": [
       "array([  6.9573401 ,  50.10106437,  28.57780659,  19.9429089 ,\n",
       "        15.30820427,  12.4195753 ,  10.44737292,   9.01541013,\n",
       "         7.92853152,   7.07544716,   6.38806482,   5.82238922,\n",
       "         5.34873088,   4.94632941,   4.60023194,   4.29939534,\n",
       "         4.03548687,   3.80210083])"
      ]
     },
     "execution_count": 78,
     "metadata": {},
     "output_type": "execute_result"
    }
   ],
   "source": [
    "meq"
   ]
  },
  {
   "cell_type": "code",
   "execution_count": 82,
   "metadata": {
    "collapsed": false
   },
   "outputs": [
    {
     "data": {
      "text/plain": [
       "0.92430751794129185"
      ]
     },
     "execution_count": 82,
     "metadata": {},
     "output_type": "execute_result"
    }
   ],
   "source": [
    "np.abs(dado-np.dot(Geq,meq)).sum()"
   ]
  },
  {
   "cell_type": "code",
   "execution_count": 92,
   "metadata": {
    "collapsed": false
   },
   "outputs": [
    {
     "name": "stdout",
     "output_type": "stream",
     "text": [
      "('massas equivalentes=', array([  4.34987554,  98.18327401,  20.55744801,   5.44510968,\n",
      "         0.67436287,  -1.18121338,  -1.97030993,  -2.30530048,\n",
      "        -2.42789027,  -2.44539246,  -2.40956304,  -2.346884  ,\n",
      "        -2.27147822,  -2.1910794 ,  -2.10997307,  -2.03052145,\n",
      "        -1.95398781,  -1.88099725]), ' parametro mu=', 1e-06)\n"
     ]
    }
   ],
   "source": [
    "mu = 0.000001\n",
    "for i in range(3000):\n",
    "    meq = np.dot(np.dot( Geq.transpose(), np.linalg.inv(np.dot(Geq, Geq.transpose()) + mu*np.eye(Geq.shape[0])) ), dado)\n",
    "    err=np.abs(dado-np.dot(Geq,meq)).sum()\n",
    "    if err < 0.5:\n",
    "        exit\n",
    "        print('massas equivalentes=',meq,' parametro mu=', mu)\n",
    "    mu = mu + 1.E-5 "
   ]
  },
  {
   "cell_type": "code",
   "execution_count": 91,
   "metadata": {
    "collapsed": false
   },
   "outputs": [
    {
     "data": {
      "text/plain": [
       "5.873787507756818"
      ]
     },
     "execution_count": 91,
     "metadata": {},
     "output_type": "execute_result"
    }
   ],
   "source": [
    "err"
   ]
  },
  {
   "cell_type": "code",
   "execution_count": null,
   "metadata": {
    "collapsed": true
   },
   "outputs": [],
   "source": []
  }
 ],
 "metadata": {
  "kernelspec": {
   "display_name": "Python 2",
   "language": "python",
   "name": "python2"
  },
  "language_info": {
   "codemirror_mode": {
    "name": "ipython",
    "version": 2
   },
   "file_extension": ".py",
   "mimetype": "text/x-python",
   "name": "python",
   "nbconvert_exporter": "python",
   "pygments_lexer": "ipython2",
   "version": "2.7.10"
  }
 },
 "nbformat": 4,
 "nbformat_minor": 0
}
